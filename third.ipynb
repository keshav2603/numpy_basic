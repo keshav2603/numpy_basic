{
 "cells": [
  {
   "cell_type": "code",
   "execution_count": 2,
   "id": "aa77c7dd",
   "metadata": {},
   "outputs": [],
   "source": [
    "import numpy as np\n",
    "import matplotlib.pyplot as plt"
   ]
  },
  {
   "cell_type": "markdown",
   "id": "f3bbb5ca",
   "metadata": {},
   "source": [
    "# practicing with data"
   ]
  },
  {
   "cell_type": "code",
   "execution_count": 4,
   "id": "98899ffc",
   "metadata": {},
   "outputs": [
    {
     "data": {
      "text/plain": [
       "array([[      1, 1500000, 1600000, 1700000, 1800000],\n",
       "       [      2, 2000000, 2100000, 2200000, 2300000],\n",
       "       [      3, 2500000, 2600000, 2700000, 2800000],\n",
       "       [      4, 3000000, 3100000, 3200000, 3300000],\n",
       "       [      5, 3500000, 3600000, 3700000, 3800000]])"
      ]
     },
     "execution_count": 4,
     "metadata": {},
     "output_type": "execute_result"
    }
   ],
   "source": [
    "# sample data structure :[restaurant_id, 2020, 2021, 2022, 2023]\n",
    "data=np.array([\n",
    "    [1,1500000,1600000,1700000,1800000],\n",
    "    [2,2000000,2100000,2200000,2300000],\n",
    "    [3,2500000,2600000,2700000,2800000],\n",
    "    [4,3000000,3100000,3200000,3300000],\n",
    "    [5,3500000,3600000,3700000,3800000]\n",
    "])\n",
    "data   "
   ]
  },
  {
   "cell_type": "code",
   "execution_count": 5,
   "id": "0b07ac9f",
   "metadata": {},
   "outputs": [
    {
     "name": "stdout",
     "output_type": "stream",
     "text": [
      "sales data shape: (5, 5)\n",
      "\n",
      " slaes data for first three restaurants:\n",
      " [[      1 1500000 1600000 1700000 1800000]\n",
      " [      2 2000000 2100000 2200000 2300000]\n",
      " [      3 2500000 2600000 2700000 2800000]]\n"
     ]
    }
   ],
   "source": [
    "print(\"sales data shape:\",data.shape)\n",
    "print(\"\\n slaes data for first three restaurants:\\n\",data[:3])"
   ]
  },
  {
   "cell_type": "code",
   "execution_count": 13,
   "id": "8ef6fc14",
   "metadata": {},
   "outputs": [
    {
     "name": "stdout",
     "output_type": "stream",
     "text": [
      "[12500000 13000000 13500000 14000000]\n",
      "[ 6600000  8600000 10600000 12600000 14600000]\n",
      "minumum sale [1500000 2000000 2500000 3000000 3500000]\n",
      "max sale [3500000 3600000 3700000 3800000]\n",
      "avg sale [1650000. 2150000. 2650000. 3150000. 3650000.]\n",
      "cumsale [[ 1500000  3100000  4800000  6600000]\n",
      " [ 2000000  4100000  6300000  8600000]\n",
      " [ 2500000  5100000  7800000 10600000]\n",
      " [ 3000000  6100000  9300000 12600000]\n",
      " [ 3500000  7100000 10800000 14600000]]\n"
     ]
    }
   ],
   "source": [
    "#  total sale for each year\n",
    "print(np.sum(data[:,1:],axis=0))\n",
    "print(np.sum(data[:,1:],axis=1))\n",
    "\n",
    "# minimun sale per restaurant\n",
    "print(f\"minumum sale {np.min(data[:,1:], axis=1)}\")\n",
    "print(f\"max sale {np.max(data[:,1:], axis=0)}\")\n",
    "print(f\"avg sale {np.average(data[:,1:], axis=1)}\")\n",
    "print(f\"cumsale {np.cumsum(data[:,1:], axis=1)}\")"
   ]
  },
  {
   "cell_type": "code",
   "execution_count": 19,
   "id": "26d13e89",
   "metadata": {},
   "outputs": [
    {
     "data": {
      "image/png": "[encoded data removed]",
      "text/plain": [
       "<Figure size 1000x600 with 1 Axes>"
      ]
     },
     "metadata": {},
     "output_type": "display_data"
    }
   ],
   "source": [
    "cumsun_arr=np.cumsum(data[:,1:], axis=1)\n",
    "plt.figure(figsize=(10,6))\n",
    "plt.plot(np.mean(cumsun_arr))\n",
    "plt.title(\"avg cumlative sale sum\")\n",
    "plt.xlabel(\"year\")\n",
    "plt.ylabel(\"sale\")\n",
    "plt.grid(True)\n",
    "plt.show()"
   ]
  },
  {
   "cell_type": "markdown",
   "id": "2babd1a0",
   "metadata": {},
   "source": [
    "## some matrices operation"
   ]
  },
  {
   "cell_type": "code",
   "execution_count": 20,
   "id": "6f2f4936",
   "metadata": {},
   "outputs": [],
   "source": [
    "a=np.array([1,2,3,4,5])\n",
    "b=np.array([6,7,8,9,10])"
   ]
  },
  {
   "cell_type": "code",
   "execution_count": 21,
   "id": "48bca0ec",
   "metadata": {},
   "outputs": [
    {
     "name": "stdout",
     "output_type": "stream",
     "text": [
      "addition of vector:[ 7  9 11 13 15]\n"
     ]
    }
   ],
   "source": [
    "print(f\"addition of vector:{a+b}\")"
   ]
  },
  {
   "cell_type": "code",
   "execution_count": 26,
   "id": "42397271",
   "metadata": {},
   "outputs": [
    {
     "name": "stdout",
     "output_type": "stream",
     "text": [
      "multiplication of vector \n",
      "[ 6 14 24 36 50]\n",
      "130\n",
      "0.26554161733900966\n"
     ]
    }
   ],
   "source": [
    "print(f\"multiplication of vector \\n{a*b}\")\n",
    "print(np.dot(a,b))\n",
    "\n",
    "angle = np.arccos(np.dot(a,b)/(np.linalg.norm(a)*np.linalg.norm(b)))\n",
    "print(angle)"
   ]
  },
  {
   "cell_type": "code",
   "execution_count": 27,
   "id": "dbe21b41",
   "metadata": {},
   "outputs": [
    {
     "data": {
      "text/plain": [
       "array(['NAJSO', 'FIWEJEFI'], dtype='<U8')"
      ]
     },
     "execution_count": 27,
     "metadata": {},
     "output_type": "execute_result"
    }
   ],
   "source": [
    "res=np.array([\"najso\",\"fiwejefi\"])\n",
    "up=np.vectorize(str.upper)\n",
    "up(res)"
   ]
  }
 ],
 "metadata": {
  "kernelspec": {
   "display_name": ".venv",
   "language": "python",
   "name": "python3"
  },
  "language_info": {
   "codemirror_mode": {
    "name": "ipython",
    "version": 3
   },
   "file_extension": ".py",
   "mimetype": "text/x-python",
   "name": "python",
   "nbconvert_exporter": "python",
   "pygments_lexer": "ipython3",
   "version": "3.13.4"
  }
 },
 "nbformat": 4,
 "nbformat_minor": 5
}
