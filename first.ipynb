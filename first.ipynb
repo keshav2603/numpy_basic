{
 "cells": [
  {
   "cell_type": "markdown",
   "id": "2555c5b2",
   "metadata": {},
   "source": [
    "# Revising numpy from basic\n"
   ]
  },
  {
   "cell_type": "code",
   "execution_count": 2,
   "id": "407af0ff",
   "metadata": {},
   "outputs": [],
   "source": [
    "import numpy as np"
   ]
  },
  {
   "cell_type": "markdown",
   "id": "b4dac3ab",
   "metadata": {},
   "source": [
    "### creating a array from list\n",
    "\n"
   ]
  },
  {
   "cell_type": "code",
   "execution_count": 3,
   "id": "2a2b8d7f",
   "metadata": {},
   "outputs": [
    {
     "name": "stdout",
     "output_type": "stream",
     "text": [
      "[1 2 3 4 5]\n",
      "[[1 2 3]\n",
      " [4 5 6]]\n"
     ]
    }
   ],
   "source": [
    "arr1= np.array([1,2,3,4,5])\n",
    "print(arr1)\n",
    "arr2= np.array([[1,2,3],[4,5,6]])\n",
    "print(arr2)"
   ]
  },
  {
   "cell_type": "markdown",
   "id": "66496c82",
   "metadata": {},
   "source": [
    "### list vs numpy array"
   ]
  },
  {
   "cell_type": "code",
   "execution_count": 4,
   "id": "223f932f",
   "metadata": {},
   "outputs": [
    {
     "name": "stdout",
     "output_type": "stream",
     "text": [
      "mulptiple list by 2: [1, 2, 3, 1, 2, 3]\n",
      "mulptiple array by 2: [2 4 6]\n"
     ]
    }
   ],
   "source": [
    "py_list=[1,2,3]\n",
    "arr= np.array([1,2,3])\n",
    "print(f\"mulptiple list by 2: {py_list * 2}\")\n",
    "print(f\"mulptiple array by 2: {arr * 2}\")"
   ]
  },
  {
   "cell_type": "markdown",
   "id": "c540f891",
   "metadata": {},
   "source": [
    "here we can the clear difference of in the output of multiplication "
   ]
  },
  {
   "cell_type": "code",
   "execution_count": 5,
   "id": "77d8bd69",
   "metadata": {},
   "outputs": [
    {
     "name": "stdout",
     "output_type": "stream",
     "text": [
      "Time taken to multiply list: 0.020924091339111328 seconds\n",
      "Time taken to multiply array: 0.0021209716796875 seconds\n"
     ]
    }
   ],
   "source": [
    "import time \n",
    "start = time.time()\n",
    "py_list = [i *2 for i in range(1000000)]\n",
    "print(f\"Time taken to multiply list: {time.time() - start} seconds\")\n",
    "start = time.time()\n",
    "arr = np.arange(1000000) * 2\n",
    "print(f\"Time taken to multiply array: {time.time() - start} seconds\")"
   ]
  },
  {
   "cell_type": "markdown",
   "id": "1e7322b8",
   "metadata": {},
   "source": [
    "the time diferrence is insane array is much much fatser than list\n"
   ]
  },
  {
   "cell_type": "markdown",
   "id": "cbfac0ac",
   "metadata": {},
   "source": [
    "### creating array from scratch"
   ]
  },
  {
   "cell_type": "code",
   "execution_count": 6,
   "id": "9b4f2aaa",
   "metadata": {},
   "outputs": [
    {
     "data": {
      "text/plain": [
       "array([[0., 0., 0., 0.],\n",
       "       [0., 0., 0., 0.],\n",
       "       [0., 0., 0., 0.]])"
      ]
     },
     "execution_count": 6,
     "metadata": {},
     "output_type": "execute_result"
    }
   ],
   "source": [
    "# zeros array\n",
    "arr_zeros = np.zeros((3, 4))\n",
    "arr_zeros\n"
   ]
  },
  {
   "cell_type": "code",
   "execution_count": 7,
   "id": "b7baabfe",
   "metadata": {},
   "outputs": [
    {
     "name": "stdout",
     "output_type": "stream",
     "text": [
      "Array of zeros:\n",
      "[[0. 0. 0. 0.]\n",
      " [0. 0. 0. 0.]\n",
      " [0. 0. 0. 0.]]\n"
     ]
    }
   ],
   "source": [
    "np_ones = np.ones((3, 4))\n",
    "print(f\"Array of zeros:\\n{arr_zeros}\")"
   ]
  },
  {
   "cell_type": "code",
   "execution_count": 10,
   "id": "46ee8a1f",
   "metadata": {},
   "outputs": [
    {
     "data": {
      "text/plain": [
       "array([[7, 7, 7, 7],\n",
       "       [7, 7, 7, 7],\n",
       "       [7, 7, 7, 7]])"
      ]
     },
     "execution_count": 10,
     "metadata": {},
     "output_type": "execute_result"
    }
   ],
   "source": [
    "np_full = np.full((3,4), 7)\n",
    "np_full"
   ]
  },
  {
   "cell_type": "code",
   "execution_count": 11,
   "id": "29eb1e1c",
   "metadata": {},
   "outputs": [
    {
     "data": {
      "text/plain": [
       "array([[0.48178841, 0.89757375, 0.43334883, 0.91485401],\n",
       "       [0.97577948, 0.97156219, 0.4706321 , 0.04127439],\n",
       "       [0.1937152 , 0.70688808, 0.38119584, 0.2691534 ]])"
      ]
     },
     "execution_count": 11,
     "metadata": {},
     "output_type": "execute_result"
    }
   ],
   "source": [
    "np_random = np.random.random((3,4))\n",
    "np_random\n"
   ]
  },
  {
   "cell_type": "code",
   "execution_count": 12,
   "id": "adfa7780",
   "metadata": {},
   "outputs": [
    {
     "data": {
      "text/plain": [
       "array([10, 15, 20, 25])"
      ]
     },
     "execution_count": 12,
     "metadata": {},
     "output_type": "execute_result"
    }
   ],
   "source": [
    "np_sequence = np.arange(10, 30, 5)\n",
    "np_sequence"
   ]
  },
  {
   "cell_type": "markdown",
   "id": "10c1c29e",
   "metadata": {},
   "source": [
    "# vector , matrices, tensor\n"
   ]
  },
  {
   "cell_type": "code",
   "execution_count": 14,
   "id": "d64e95a3",
   "metadata": {},
   "outputs": [
    {
     "data": {
      "text/plain": [
       "array([1, 2, 3, 4, 5])"
      ]
     },
     "execution_count": 14,
     "metadata": {},
     "output_type": "execute_result"
    }
   ],
   "source": [
    "np_vector = np.array([1, 2, 3, 4, 5])\n",
    "np_vector"
   ]
  },
  {
   "cell_type": "code",
   "execution_count": 15,
   "id": "bed8377b",
   "metadata": {},
   "outputs": [
    {
     "data": {
      "text/plain": [
       "array([[1, 2, 3],\n",
       "       [4, 5, 6]])"
      ]
     },
     "execution_count": 15,
     "metadata": {},
     "output_type": "execute_result"
    }
   ],
   "source": [
    "np_matrices = np.array([[1, 2, 3], [4, 5, 6]])\n",
    "np_matrices"
   ]
  },
  {
   "cell_type": "code",
   "execution_count": 16,
   "id": "adf25059",
   "metadata": {},
   "outputs": [
    {
     "name": "stdout",
     "output_type": "stream",
     "text": [
      "3D Tensor:\n",
      "[[[1 2]\n",
      "  [3 4]]\n",
      "\n",
      " [[5 6]\n",
      "  [7 8]]]\n"
     ]
    }
   ],
   "source": [
    "np_tensor = np.array([[[1, 2], [3, 4]], [[5, 6], [7, 8]]])\n",
    "print(f\"3D Tensor:\\n{np_tensor}\")"
   ]
  },
  {
   "cell_type": "markdown",
   "id": "645103bf",
   "metadata": {},
   "source": [
    "# Array properties"
   ]
  },
  {
   "cell_type": "code",
   "execution_count": 20,
   "id": "442da34f",
   "metadata": {},
   "outputs": [
    {
     "name": "stdout",
     "output_type": "stream",
     "text": [
      " shape: (2, 3)\n",
      " dimension: 2\n",
      " size: 6\n",
      " data type: int64\n"
     ]
    }
   ],
   "source": [
    "arr=np.array([[1, 2, 3], [4, 5, 6]])\n",
    "print(f\" shape: {arr.shape}\")\n",
    "print(f\" dimension: {arr.ndim}\")\n",
    "print(f\" size: {arr.size}\")\n",
    "print(f\" data type: {arr.dtype}\")"
   ]
  },
  {
   "cell_type": "markdown",
   "id": "9dfbe3eb",
   "metadata": {},
   "source": [
    "# Array reshaping"
   ]
  },
  {
   "cell_type": "code",
   "execution_count": 28,
   "id": "9612f2d9",
   "metadata": {},
   "outputs": [
    {
     "name": "stdout",
     "output_type": "stream",
     "text": [
      "orignal array :[ 0  1  2  3  4  5  6  7  8  9 10 11]\n",
      "reshaped array :\n",
      "[[ 0  1  2  3]\n",
      " [ 4  5  6  7]\n",
      " [ 8  9 10 11]]\n",
      "flattened array :\n",
      "[ 0  1  2  3  4  5  6  7  8  9 10 11]\n",
      "raveled array :\n",
      "[ 0  1  2  3  4  5  6  7  8  9 10 11]\n",
      "transposed array :\n",
      "[[ 0  4  8]\n",
      " [ 1  5  9]\n",
      " [ 2  6 10]\n",
      " [ 3  7 11]]\n"
     ]
    }
   ],
   "source": [
    "arr= np.arange(12)\n",
    "print(f\"orignal array :{arr}\")\n",
    "arr_reshaped =arr.reshape((3, 4))\n",
    "print(f\"reshaped array :\\n{arr_reshaped}\")\n",
    "flattend = arr_reshaped.flatten()\n",
    "print(f\"flattened array :\\n{flattend}\")\n",
    "\n",
    "\n",
    "# ravel return view instead of copy\n",
    "raveled = arr_reshaped.ravel()\n",
    "print(f\"raveled array :\\n{raveled}\")\n",
    "\n",
    "# Transpose of an array\n",
    "transposed = arr_reshaped.T\n",
    "print(f\"transposed array :\\n{transposed}\")"
   ]
  },
  {
   "cell_type": "code",
   "execution_count": null,
   "id": "f4958375",
   "metadata": {},
   "outputs": [],
   "source": []
  }
 ],
 "metadata": {
  "kernelspec": {
   "display_name": ".venv",
   "language": "python",
   "name": "python3"
  },
  "language_info": {
   "codemirror_mode": {
    "name": "ipython",
    "version": 3
   },
   "file_extension": ".py",
   "mimetype": "text/x-python",
   "name": "python",
   "nbconvert_exporter": "python",
   "pygments_lexer": "ipython3",
   "version": "3.13.4"
  }
 },
 "nbformat": 4,
 "nbformat_minor": 5
}
