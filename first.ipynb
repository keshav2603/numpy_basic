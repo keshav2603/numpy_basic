{
 "cells": [
  {
   "cell_type": "markdown",
   "id": "2555c5b2",
   "metadata": {},
   "source": [
    "# Revising numpy from basic\n"
   ]
  },
  {
   "cell_type": "code",
   "execution_count": 4,
   "id": "407af0ff",
   "metadata": {},
   "outputs": [],
   "source": [
    "import numpy as np"
   ]
  },
  {
   "cell_type": "markdown",
   "id": "b4dac3ab",
   "metadata": {},
   "source": [
    "### creating a array from list\n",
    "\n"
   ]
  },
  {
   "cell_type": "code",
   "execution_count": 6,
   "id": "2a2b8d7f",
   "metadata": {},
   "outputs": [
    {
     "name": "stdout",
     "output_type": "stream",
     "text": [
      "[1 2 3 4 5]\n",
      "[[1 2 3]\n",
      " [4 5 6]]\n"
     ]
    }
   ],
   "source": [
    "arr1= np.array([1,2,3,4,5])\n",
    "print(arr1)\n",
    "arr2= np.array([[1,2,3],[4,5,6]])\n",
    "print(arr2)"
   ]
  },
  {
   "cell_type": "markdown",
   "id": "66496c82",
   "metadata": {},
   "source": [
    "### list vs numpy array"
   ]
  },
  {
   "cell_type": "code",
   "execution_count": 7,
   "id": "223f932f",
   "metadata": {},
   "outputs": [
    {
     "name": "stdout",
     "output_type": "stream",
     "text": [
      "mulptiple list by 2: [1, 2, 3, 1, 2, 3]\n",
      "mulptiple array by 2: [2 4 6]\n"
     ]
    }
   ],
   "source": [
    "py_list=[1,2,3]\n",
    "arr= np.array([1,2,3])\n",
    "print(f\"mulptiple list by 2: {py_list * 2}\")\n",
    "print(f\"mulptiple array by 2: {arr * 2}\")"
   ]
  },
  {
   "cell_type": "markdown",
   "id": "c540f891",
   "metadata": {},
   "source": [
    "here we can the clear difference of in the output of multiplication "
   ]
  },
  {
   "cell_type": "code",
   "execution_count": 8,
   "id": "77d8bd69",
   "metadata": {},
   "outputs": [
    {
     "name": "stdout",
     "output_type": "stream",
     "text": [
      "Time taken to multiply list: 0.034509897232055664 seconds\n",
      "Time taken to multiply array: 0.001512765884399414 seconds\n"
     ]
    }
   ],
   "source": [
    "import time \n",
    "start = time.time()\n",
    "py_list = [i *2 for i in range(1000000)]\n",
    "print(f\"Time taken to multiply list: {time.time() - start} seconds\")\n",
    "start = time.time()\n",
    "arr = np.arange(1000000) * 2\n",
    "print(f\"Time taken to multiply array: {time.time() - start} seconds\")"
   ]
  },
  {
   "cell_type": "markdown",
   "id": "1e7322b8",
   "metadata": {},
   "source": [
    "the time diferrence is insane array is much much fatser than list\n"
   ]
  },
  {
   "cell_type": "markdown",
   "id": "cbfac0ac",
   "metadata": {},
   "source": [
    "### creating array from scratch"
   ]
  },
  {
   "cell_type": "code",
   "execution_count": 11,
   "id": "9b4f2aaa",
   "metadata": {},
   "outputs": [
    {
     "data": {
      "text/plain": [
       "array([[0., 0., 0., 0.],\n",
       "       [0., 0., 0., 0.],\n",
       "       [0., 0., 0., 0.]])"
      ]
     },
     "execution_count": 11,
     "metadata": {},
     "output_type": "execute_result"
    }
   ],
   "source": [
    "# zeros array\n",
    "arr_zeros = np.zeros((3, 4))\n",
    "arr_zeros\n"
   ]
  },
  {
   "cell_type": "code",
   "execution_count": 12,
   "id": "b7baabfe",
   "metadata": {},
   "outputs": [
    {
     "name": "stdout",
     "output_type": "stream",
     "text": [
      "Array of zeros:\n",
      "[[0. 0. 0. 0.]\n",
      " [0. 0. 0. 0.]\n",
      " [0. 0. 0. 0.]]\n"
     ]
    }
   ],
   "source": [
    "np_ones = np.ones((3, 4))\n",
    "print(f\"Array of zeros:\\n{arr_zeros}\")"
   ]
  }
 ],
 "metadata": {
  "kernelspec": {
   "display_name": ".venv",
   "language": "python",
   "name": "python3"
  },
  "language_info": {
   "codemirror_mode": {
    "name": "ipython",
    "version": 3
   },
   "file_extension": ".py",
   "mimetype": "text/x-python",
   "name": "python",
   "nbconvert_exporter": "python",
   "pygments_lexer": "ipython3",
   "version": "3.13.4"
  }
 },
 "nbformat": 4,
 "nbformat_minor": 5
}
