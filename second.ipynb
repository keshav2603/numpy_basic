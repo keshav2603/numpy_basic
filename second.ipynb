{
 "cells": [
  {
   "cell_type": "code",
   "execution_count": 1,
   "id": "ad63903a",
   "metadata": {},
   "outputs": [],
   "source": [
    "import numpy as np\n"
   ]
  },
  {
   "cell_type": "markdown",
   "id": "3971b119",
   "metadata": {},
   "source": [
    "# Array operations"
   ]
  },
  {
   "cell_type": "code",
   "execution_count": 5,
   "id": "9e1ea212",
   "metadata": {},
   "outputs": [
    {
     "name": "stdout",
     "output_type": "stream",
     "text": [
      "[ 1  2  3  4  5  6  7  8  9 10]\n",
      "basic slicing :[3 4 5 6 7]\n",
      "step slicing :[2 4 6 8]\n",
      "negative slicing: [3 4 5 6 7 8 9]\n"
     ]
    }
   ],
   "source": [
    "arr= np.arange(1,11)\n",
    "print(arr)\n",
    "# slicing\n",
    "print(f\"basic slicing :{arr[2:7]}\")\n",
    "print(f\"step slicing :{arr[1:8:2]}\")\n",
    "print(f\"negative slicing: {arr[2:-1]}\")"
   ]
  },
  {
   "cell_type": "code",
   "execution_count": 15,
   "id": "b554cae8",
   "metadata": {},
   "outputs": [
    {
     "name": "stdout",
     "output_type": "stream",
     "text": [
      "[[1 2 3]\n",
      " [4 5 6]\n",
      " [7 8 9]]\n",
      "getting a specific element 6\n",
      "getting entire row : [4 5 6]\n",
      "getting entire column : [2 5 8]\n"
     ]
    }
   ],
   "source": [
    "arr= np.arange(1,10).reshape(3,3)\n",
    "print(arr)\n",
    "print(\"getting a specific element\",arr[1,2])\n",
    "print(\"getting entire row :\",arr[1])\n",
    "print(\"getting entire column :\",arr[:,1])"
   ]
  },
  {
   "cell_type": "markdown",
   "id": "4346fb15",
   "metadata": {},
   "source": [
    "### sorting"
   ]
  },
  {
   "cell_type": "code",
   "execution_count": 17,
   "id": "6d42710f",
   "metadata": {},
   "outputs": [
    {
     "name": "stdout",
     "output_type": "stream",
     "text": [
      "sorted array : [0 1 2 3 4 5 8 9]\n",
      "sorted array along columns:\n",
      " [[1 0 3]\n",
      " [2 5 6]\n",
      " [4 8 9]]\n",
      "sorted array along rows:\n",
      " [[1 3 5]\n",
      " [2 8 9]\n",
      " [0 4 6]]\n"
     ]
    }
   ],
   "source": [
    "arr= np.array([1,5,3,2,8,9,4,0])\n",
    "print(\"sorted array :\",np.sort(arr))\n",
    "\n",
    "arr_2d_unsorted = np.array([[1,5,3],[2,8,9],[4,0,6]])\n",
    "print(\"sorted array along columns:\\n\", np.sort(arr_2d_unsorted, axis=0))\n",
    "print(\"sorted array along rows:\\n\", np.sort(arr_2d_unsorted, axis=1))"
   ]
  },
  {
   "cell_type": "markdown",
   "id": "e9aaba3a",
   "metadata": {},
   "source": [
    "### filtering"
   ]
  },
  {
   "cell_type": "code",
   "execution_count": 19,
   "id": "8248d3c5",
   "metadata": {},
   "outputs": [
    {
     "name": "stdout",
     "output_type": "stream",
     "text": [
      "even numbers from array: [ 2  4  6  8 10]\n"
     ]
    }
   ],
   "source": [
    "arr= np.arange(1,11)\n",
    "even= arr[arr%2==0]\n",
    "print(\"even numbers from array:\", even)"
   ]
  },
  {
   "cell_type": "markdown",
   "id": "2f9d0598",
   "metadata": {},
   "source": [
    "## filter with mask"
   ]
  },
  {
   "cell_type": "code",
   "execution_count": 21,
   "id": "ee794b21",
   "metadata": {},
   "outputs": [
    {
     "name": "stdout",
     "output_type": "stream",
     "text": [
      "mask for elements greater than 5: [ 6  7  8  9 10]\n"
     ]
    }
   ],
   "source": [
    "mask= arr>5\n",
    "print(\"mask for elements greater than 5:\", arr[mask])"
   ]
  },
  {
   "cell_type": "markdown",
   "id": "f91dc939",
   "metadata": {},
   "source": [
    "## fancy indexing and np.where()"
   ]
  },
  {
   "cell_type": "code",
   "execution_count": 25,
   "id": "d9d0d636",
   "metadata": {},
   "outputs": [
    {
     "name": "stdout",
     "output_type": "stream",
     "text": [
      "np where [ 6  7  8  9 10]\n"
     ]
    }
   ],
   "source": [
    "idx=[2,4,8]\n",
    "arr[idx]\n",
    "\n",
    "where_result = np.where(arr>5)\n",
    "print(\"np where\",arr[where_result])"
   ]
  },
  {
   "cell_type": "code",
   "execution_count": 30,
   "id": "55ae1499",
   "metadata": {},
   "outputs": [
    {
     "name": "stdout",
     "output_type": "stream",
     "text": [
      "np where with condition: [1 2 3 4 5 0 0 0 0 0]\n"
     ]
    }
   ],
   "source": [
    "condition_arr = np.where(arr>5, 0, arr)\n",
    "print(\"np where with condition:\", condition_arr)"
   ]
  },
  {
   "cell_type": "markdown",
   "id": "16b63569",
   "metadata": {},
   "source": [
    "### adding and removing data"
   ]
  },
  {
   "cell_type": "code",
   "execution_count": 35,
   "id": "0046504d",
   "metadata": {},
   "outputs": [
    {
     "name": "stdout",
     "output_type": "stream",
     "text": [
      "combined array [1 2 3 4 5 6]\n"
     ]
    }
   ],
   "source": [
    "arr1=np.array([1,2,3])\n",
    "arr2=np.array([4,5,6])\n",
    "\n",
    "combined_arr =np.concatenate((arr1, arr2))\n",
    "print(\"combined array\",combined_arr )"
   ]
  },
  {
   "cell_type": "markdown",
   "id": "df16f24a",
   "metadata": {},
   "source": [
    "### array compatiblity"
   ]
  },
  {
   "cell_type": "code",
   "execution_count": 37,
   "id": "52c950d5",
   "metadata": {},
   "outputs": [
    {
     "name": "stdout",
     "output_type": "stream",
     "text": [
      "compatibility shape check: True\n"
     ]
    }
   ],
   "source": [
    "\n",
    "a=np.array([1,2,3])\n",
    "b=np.array([4,5,6])\n",
    "c=np.array([7,8,9])\n",
    "\n",
    "print(\"compatibility shape check:\",a.shape==b.shape==c.shape)"
   ]
  },
  {
   "cell_type": "code",
   "execution_count": 42,
   "id": "a861ded0",
   "metadata": {},
   "outputs": [
    {
     "name": "stdout",
     "output_type": "stream",
     "text": [
      "new array after adding row:\n",
      " [[ 1  2  3]\n",
      " [ 4  5  6]\n",
      " [ 7  8  9]\n",
      " [10 11 12]]\n",
      "new array after adding column:\n",
      " [[ 1  2  3 12]\n",
      " [ 4  5  6 12]\n",
      " [ 7  8  9 13]]\n"
     ]
    }
   ],
   "source": [
    "orginal= np.array([[1,2,3],[4,5,6],[7,8,9]])\n",
    "new_row = np.array([10,11,12])\n",
    "new_arr = np.vstack((orginal, new_row))\n",
    "print(\"new array after adding row:\\n\", new_arr)\n",
    "new_col = np.array([[12],[12],[13]])\n",
    "new_arr = np.hstack((orginal, new_col))\n",
    "print(\"new array after adding column:\\n\", new_arr)"
   ]
  },
  {
   "cell_type": "markdown",
   "id": "0ab7a735",
   "metadata": {},
   "source": [
    "### deleting"
   ]
  },
  {
   "cell_type": "code",
   "execution_count": 43,
   "id": "8aabfbe5",
   "metadata": {},
   "outputs": [
    {
     "name": "stdout",
     "output_type": "stream",
     "text": [
      "array after deletion: [1 2 4 5]\n"
     ]
    }
   ],
   "source": [
    "arr=np.array([1,2,3,4,5])\n",
    "deleted_arr = np.delete(arr, 2)  # delete element at index 2\n",
    "print(\"array after deletion:\", deleted_arr)"
   ]
  },
  {
   "cell_type": "code",
   "execution_count": null,
   "id": "d2e83c74",
   "metadata": {},
   "outputs": [],
   "source": []
  }
 ],
 "metadata": {
  "kernelspec": {
   "display_name": ".venv",
   "language": "python",
   "name": "python3"
  },
  "language_info": {
   "codemirror_mode": {
    "name": "ipython",
    "version": 3
   },
   "file_extension": ".py",
   "mimetype": "text/x-python",
   "name": "python",
   "nbconvert_exporter": "python",
   "pygments_lexer": "ipython3",
   "version": "3.13.4"
  }
 },
 "nbformat": 4,
 "nbformat_minor": 5
}
