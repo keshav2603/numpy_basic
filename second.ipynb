{
 "cells": [
  {
   "cell_type": "code",
   "execution_count": null,
   "id": "ad63903a",
   "metadata": {},
   "outputs": [],
   "source": [
    "# wfwfw"
   ]
  },
  {
   "cell_type": "code",
   "execution_count": null,
   "id": "9e1ea212",
   "metadata": {},
   "outputs": [],
   "source": [
    "# new "
   ]
  }
 ],
 "metadata": {
  "language_info": {
   "name": "python"
  }
 },
 "nbformat": 4,
 "nbformat_minor": 5
}
